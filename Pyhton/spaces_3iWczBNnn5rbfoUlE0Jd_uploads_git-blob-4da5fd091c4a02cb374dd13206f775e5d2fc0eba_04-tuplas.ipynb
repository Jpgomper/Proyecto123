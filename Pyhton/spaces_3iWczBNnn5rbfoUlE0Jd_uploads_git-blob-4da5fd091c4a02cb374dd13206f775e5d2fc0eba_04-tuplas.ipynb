{
 "cells": [
  {
   "cell_type": "markdown",
   "metadata": {},
   "source": [
    "<div style=\"text-align: center;\">\n",
    "  <img src=\"https://github.com/Hack-io-Data/Imagenes/blob/main/01-LogosHackio/logo_celeste@4x.png?raw=true\" alt=\"logo hack(io)\" />\n",
    "</div>\n"
   ]
  },
  {
   "cell_type": "markdown",
   "metadata": {},
   "source": [
    "#### 1. Crea una tupla llamada `persona` y asigna a ella los valores 'Juan', 25, 75.5, 1.75."
   ]
  },
  {
   "cell_type": "code",
   "execution_count": 1,
   "metadata": {},
   "outputs": [
    {
     "name": "stdout",
     "output_type": "stream",
     "text": [
      "('Juan', 25, 75.5, 1.75)\n"
     ]
    }
   ],
   "source": [
    "persona = (\"Juan\",25,75.5,1.75)\n",
    "\n",
    "print(persona)"
   ]
  },
  {
   "cell_type": "markdown",
   "metadata": {},
   "source": [
    "#### 2. Crea una tupla llamada `animal` y asigna a ella los valores 'perro', 'gato', 'conejo'."
   ]
  },
  {
   "cell_type": "code",
   "execution_count": 2,
   "metadata": {},
   "outputs": [
    {
     "name": "stdout",
     "output_type": "stream",
     "text": [
      "('perro', 'gato', 'conejo')\n"
     ]
    }
   ],
   "source": [
    "animal = (\"perro\",\"gato\",\"conejo\")\n",
    "\n",
    "print(animal)"
   ]
  },
  {
   "cell_type": "markdown",
   "metadata": {},
   "source": [
    "#### 3. Obten la longitud de cada tupla y asigna el resultado a una variable llamada `longitud_persona` y `longitud_animal`.\n"
   ]
  },
  {
   "cell_type": "code",
   "execution_count": 4,
   "metadata": {},
   "outputs": [
    {
     "name": "stdout",
     "output_type": "stream",
     "text": [
      "3\n",
      "4\n"
     ]
    }
   ],
   "source": [
    "persona = (\"Juan\",25,75.5,1.75)\n",
    "\n",
    "animal = (\"perro\",\"gato\",\"conejo\")\n",
    "\n",
    "longitud_persona = len(persona)\n",
    "\n",
    "longitud_animal = len(animal)\n",
    "\n",
    "print(longitud_animal)\n",
    "\n",
    "print(longitud_persona)"
   ]
  },
  {
   "cell_type": "markdown",
   "metadata": {},
   "source": [
    "#### 4. Imprime en pantalla el valor de cada variable utilizando la función print()."
   ]
  },
  {
   "cell_type": "code",
   "execution_count": 5,
   "metadata": {},
   "outputs": [
    {
     "name": "stdout",
     "output_type": "stream",
     "text": [
      "Juan\n",
      "25\n",
      "75.5\n",
      "1.75\n"
     ]
    }
   ],
   "source": [
    "print(persona[0])\n",
    "\n",
    "print(persona[1])\n",
    "\n",
    "print(persona[2])\n",
    "\n",
    "print(persona[3])"
   ]
  },
  {
   "cell_type": "markdown",
   "metadata": {},
   "source": [
    "#### 5. Convierte la tupla `animal` en una lista. Comprueba que es una lista."
   ]
  },
  {
   "cell_type": "code",
   "execution_count": 6,
   "metadata": {},
   "outputs": [
    {
     "name": "stdout",
     "output_type": "stream",
     "text": [
      "['perro', 'gato', 'conejo']\n"
     ]
    }
   ],
   "source": [
    "animal = (\"perro\",\"gato\",\"conejo\")\n",
    "\n",
    "lista_animal = list(animal)\n",
    "\n",
    "print(lista_animal)\n",
    "\n"
   ]
  },
  {
   "cell_type": "markdown",
   "metadata": {},
   "source": [
    "#### 6. Genera una tupla anidada nueva compuesta por la tupla `datos` y la lista `animal`. Asigna el resultado a una variable llamada `anidada`."
   ]
  },
  {
   "cell_type": "code",
   "execution_count": 7,
   "metadata": {},
   "outputs": [
    {
     "name": "stdout",
     "output_type": "stream",
     "text": [
      "('perro', 'gato', 'conejo', 'Juan', 17.5)\n"
     ]
    }
   ],
   "source": [
    "animal = (\"perro\",\"gato\",\"conejo\")\n",
    "\n",
    "lista_animal = list(animal)\n",
    "\n",
    "datos = (\"Juan\", 17.5)\n",
    "\n",
    "tupla_animal = tuple(lista_animal)\n",
    "\n",
    "anidada = tupla_animal + datos\n",
    "\n",
    "print(anidada)"
   ]
  },
  {
   "cell_type": "markdown",
   "metadata": {},
   "source": [
    "#### 7.  Accede al animal 'gato' de la tupla `anidada` e imprímelo en pantalla."
   ]
  },
  {
   "cell_type": "code",
   "execution_count": 8,
   "metadata": {},
   "outputs": [
    {
     "name": "stdout",
     "output_type": "stream",
     "text": [
      "gato\n"
     ]
    }
   ],
   "source": [
    "animal = (\"perro\",\"gato\",\"conejo\")\n",
    "\n",
    "lista_animal = list(animal)\n",
    "\n",
    "datos = (\"Juan\", 17.5)\n",
    "\n",
    "tupla_animal = tuple(lista_animal)\n",
    "\n",
    "anidada = tupla_animal + datos\n",
    "\n",
    "\n",
    "\n",
    "print(anidada[1])\n"
   ]
  },
  {
   "cell_type": "markdown",
   "metadata": {},
   "source": [
    "#### 8. Crea una tupla donde su unico valor es \"C\"."
   ]
  },
  {
   "cell_type": "code",
   "execution_count": null,
   "metadata": {},
   "outputs": [],
   "source": [
    "tupla = (\"C\")\n",
    "\n"
   ]
  },
  {
   "cell_type": "markdown",
   "metadata": {},
   "source": [
    "#### 9. Identifica el tipo de dato de la tupla."
   ]
  },
  {
   "cell_type": "code",
   "execution_count": 9,
   "metadata": {},
   "outputs": [
    {
     "name": "stdout",
     "output_type": "stream",
     "text": [
      "<class 'str'>\n"
     ]
    }
   ],
   "source": [
    "tupla = (\"C\",)\n",
    "\n",
    "tipo = type(tupla)\n",
    "\n",
    "print(tipo)\n",
    "\n"
   ]
  },
  {
   "cell_type": "markdown",
   "metadata": {},
   "source": [
    "#### 10. Crea una tupla con los siguientes valores: 'o','s','i','n','c','h','i','s'"
   ]
  },
  {
   "cell_type": "code",
   "execution_count": null,
   "metadata": {},
   "outputs": [],
   "source": [
    "tupla1 = (\"o\",\"s\",\"i\",\"n\",\"c\",\"h\",\"i\",\"s\")\n"
   ]
  },
  {
   "cell_type": "markdown",
   "metadata": {},
   "source": [
    "#### 11. Crea una tupla que sea la unión de las dos tuplas anteriores y asigna el resultado a una variable llamada `tupla3`.\n"
   ]
  },
  {
   "cell_type": "code",
   "execution_count": 11,
   "metadata": {},
   "outputs": [
    {
     "name": "stdout",
     "output_type": "stream",
     "text": [
      "('C', 'o', 's', 'i', 'n', 'c', 'h', 'i', 's')\n"
     ]
    }
   ],
   "source": [
    "tupla = (\"C\",)\n",
    "\n",
    "tupla1 = (\"o\",\"s\",\"i\",\"n\",\"c\",\"h\",\"i\",\"s\")\n",
    "\n",
    "tupla3 = tupla + tupla1\n",
    "\n",
    "print(tupla3)"
   ]
  },
  {
   "cell_type": "markdown",
   "metadata": {},
   "source": [
    "#### 12. ¿Cuál es la longitud de las tuplas `tupla1`,`tupla2` y `tupla3`?"
   ]
  },
  {
   "cell_type": "code",
   "execution_count": 12,
   "metadata": {},
   "outputs": [
    {
     "name": "stdout",
     "output_type": "stream",
     "text": [
      "1\n",
      "8\n",
      "9\n"
     ]
    }
   ],
   "source": [
    "tupla = (\"C\",)\n",
    "\n",
    "tupla1 = (\"o\",\"s\",\"i\",\"n\",\"c\",\"h\",\"i\",\"s\")\n",
    "\n",
    "tupla3 = tupla + tupla1\n",
    "\n",
    "lon = len(tupla)\n",
    "\n",
    "lon1 = len(tupla1)\n",
    "\n",
    "lon3 = len(tupla3)\n",
    "\n",
    "print(lon)\n",
    "\n",
    "print(lon1)\n",
    "\n",
    "print(lon3)\n",
    "\n"
   ]
  },
  {
   "cell_type": "markdown",
   "metadata": {},
   "source": [
    "#### 13. Comprueba que la longitud de la tupla `tupla3` es igual a la suma de las longitudes de las tuplas `tupla1` y `tupla2`.\n"
   ]
  },
  {
   "cell_type": "code",
   "execution_count": 13,
   "metadata": {},
   "outputs": [
    {
     "name": "stdout",
     "output_type": "stream",
     "text": [
      "True\n"
     ]
    }
   ],
   "source": [
    "tupla = (\"C\",)\n",
    "\n",
    "tupla1 = (\"o\",\"s\",\"i\",\"n\",\"c\",\"h\",\"i\",\"s\")\n",
    "\n",
    "tupla3 = tupla + tupla1\n",
    "\n",
    "lon = len(tupla)\n",
    "\n",
    "lon1 = len(tupla1)\n",
    "\n",
    "lon3 = len(tupla3)\n",
    "\n",
    "suma = lon + lon1 == lon3\n",
    "\n",
    "print(suma)\n",
    "\n"
   ]
  },
  {
   "cell_type": "markdown",
   "metadata": {},
   "source": [
    "#### 14. Cual es el indice del valor 'h' en la tupla `tupla2`? y en `tupla3`?"
   ]
  },
  {
   "cell_type": "code",
   "execution_count": 15,
   "metadata": {},
   "outputs": [
    {
     "name": "stdout",
     "output_type": "stream",
     "text": [
      "5\n",
      "6\n"
     ]
    }
   ],
   "source": [
    "tupla = (\"C\",)\n",
    "\n",
    "tupla1 = (\"o\",\"s\",\"i\",\"n\",\"c\",\"h\",\"i\",\"s\")\n",
    "\n",
    "tupla3 = tupla + tupla1\n",
    "\n",
    "ind1 = tupla1.index(\"h\")\n",
    "\n",
    "ind3 = tupla3.index(\"h\")\n",
    "\n",
    "print(ind1)\n",
    "\n",
    "print(ind3)\n",
    "\n"
   ]
  }
 ],
 "metadata": {
  "kernelspec": {
   "display_name": "Python (myenv)",
   "language": "python",
   "name": "myenv"
  },
  "language_info": {
   "codemirror_mode": {
    "name": "ipython",
    "version": 3
   },
   "file_extension": ".py",
   "mimetype": "text/x-python",
   "name": "python",
   "nbconvert_exporter": "python",
   "pygments_lexer": "ipython3",
   "version": "3.12.6"
  }
 },
 "nbformat": 4,
 "nbformat_minor": 2
}
