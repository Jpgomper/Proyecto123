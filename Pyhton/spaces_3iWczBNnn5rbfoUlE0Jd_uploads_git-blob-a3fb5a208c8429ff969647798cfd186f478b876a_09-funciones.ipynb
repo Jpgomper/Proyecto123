{
 "cells": [
  {
   "cell_type": "markdown",
   "metadata": {},
   "source": [
    "\n",
    "<div style=\"text-align: center;\">\n",
    "  <img src=\"https://github.com/Hack-io-Data/Imagenes/blob/main/01-LogosHackio/logo_celeste@4x.png?raw=true\" alt=\"esquema\" />\n",
    "</div>"
   ]
  },
  {
   "cell_type": "markdown",
   "metadata": {},
   "source": [
    "#### 1. Escribe una función sin parámetros que imprima el siguiente mensaje \"¡Hola! Bienvenido.\"\n"
   ]
  },
  {
   "cell_type": "code",
   "execution_count": 1,
   "metadata": {},
   "outputs": [
    {
     "name": "stdout",
     "output_type": "stream",
     "text": [
      "¡Hola! Bienvenido.\n"
     ]
    }
   ],
   "source": [
    "def mensaje():\n",
    "        print(\"¡Hola! Bienvenido.\")\n",
    "\n",
    "mensaje()"
   ]
  },
  {
   "cell_type": "markdown",
   "metadata": {},
   "source": [
    "#### 2. Escribe una función que reciba dos parámetros y devuelva la suma de ambos.\n"
   ]
  },
  {
   "cell_type": "code",
   "execution_count": 8,
   "metadata": {},
   "outputs": [
    {
     "name": "stdout",
     "output_type": "stream",
     "text": [
      "resultado es: 9\n"
     ]
    }
   ],
   "source": [
    "a = int(input(\"Ingresa a\"))\n",
    "b = int(input(\"Ingresa b\"))\n",
    "\n",
    "\n",
    "def suma(a, b): \n",
    "    return a + b\n",
    "\n",
    "\n",
    "\n",
    "result = suma(a, b)\n",
    "\n",
    "print(f\"resultado es: {result}\")\n",
    "\n"
   ]
  },
  {
   "cell_type": "markdown",
   "metadata": {},
   "source": [
    "#### 3. Escribe una función que reciba un número y devuelva True si es par, False si no lo es."
   ]
  },
  {
   "cell_type": "code",
   "execution_count": 10,
   "metadata": {},
   "outputs": [
    {
     "name": "stdout",
     "output_type": "stream",
     "text": [
      "El numero es par: True\n"
     ]
    }
   ],
   "source": [
    "def par(num):\n",
    "    return num % 2 == 0\n",
    "\n",
    "num = int(input(\"Ingresa num\"))\n",
    "\n",
    "result = par(num)\n",
    "\n",
    "print(f\"El numero es par: {result}\")\n",
    "\n"
   ]
  },
  {
   "cell_type": "markdown",
   "metadata": {},
   "source": [
    "#### 4. Escribe un función que devuelva un saludo personalizado a una persona dado su nombre. \n"
   ]
  },
  {
   "cell_type": "code",
   "execution_count": 13,
   "metadata": {},
   "outputs": [
    {
     "name": "stdout",
     "output_type": "stream",
     "text": [
      "Tu nombre, juan bautista es largo\n"
     ]
    }
   ],
   "source": [
    "def saludo(nombre):\n",
    "    if len(nombre) <=5:\n",
    "        length = \"corto\"\n",
    "    else: \n",
    "        length = \"largo\"\n",
    "\n",
    "    return f\"Tu nombre, {nombre} es {length}\" \n",
    "\n",
    "nombre_int = input(\"Ingresa nombre\")\n",
    "print(saludo(nombre_int))\n",
    "\n",
    "\n",
    "    \n"
   ]
  },
  {
   "cell_type": "markdown",
   "metadata": {},
   "source": [
    "#### 5. Escribe una función que sume todos los números que reciba como argumento. La función debe recibir una cantidad variable de argumentos y devolver la suma de todos ellos."
   ]
  },
  {
   "cell_type": "code",
   "execution_count": 15,
   "metadata": {},
   "outputs": [
    {
     "name": "stdout",
     "output_type": "stream",
     "text": [
      "la suma es 6\n"
     ]
    }
   ],
   "source": [
    "def suma(*args):\n",
    "    return sum(args)\n",
    "\n",
    "resultado = suma(1, 2, 3)\n",
    "\n",
    "print(f\"la suma es {resultado}\")"
   ]
  },
  {
   "cell_type": "markdown",
   "metadata": {},
   "source": [
    "#### 6. Escribe una función que cuente las letras de una palabra y devuelva un diccionario con la cantidad de veces que se repite cada letra \n"
   ]
  },
  {
   "cell_type": "code",
   "execution_count": 18,
   "metadata": {},
   "outputs": [
    {
     "name": "stdout",
     "output_type": "stream",
     "text": [
      "{'r': 1, 'e': 2, 's': 1, 'u': 1, 'l': 1, 't': 1, 'o': 1}\n"
     ]
    }
   ],
   "source": [
    "def contar(palabra):\n",
    "    contador = {}\n",
    "\n",
    "\n",
    "    for letra in palabra:\n",
    "        if letra in contador:\n",
    "            contador[letra] += 1\n",
    "        else:\n",
    "            contador[letra] = 1\n",
    "\n",
    "    return contador \n",
    "\n",
    "diccionario = contar(\"resuelto\")\n",
    "\n",
    "print(diccionario)\n"
   ]
  },
  {
   "cell_type": "markdown",
   "metadata": {},
   "source": [
    "#### 7. Escribe un función recursiva para calcular el factorial de un número entero no negativo."
   ]
  },
  {
   "cell_type": "code",
   "execution_count": 24,
   "metadata": {},
   "outputs": [
    {
     "name": "stdout",
     "output_type": "stream",
     "text": [
      "factorial de 3 es 6\n"
     ]
    }
   ],
   "source": [
    "def fact(n):\n",
    "    if n == 0 or n == 1:\n",
    "        return 1\n",
    "    else:\n",
    "        return n * fact(n - 1)\n",
    "    \n",
    "numero = int(input(\"Introduce numero\"))\n",
    "\n",
    "result = fact(numero)\n",
    "print(f\"factorial de {numero} es {result}\")\n"
   ]
  },
  {
   "cell_type": "markdown",
   "metadata": {},
   "source": [
    "#### 8. Escribe una función que tome dos parámetros: `figura` (una cadena que puede ser `\"rectangulo\"`, `\"circulo\"` o `\"triangulo\"`) y `datos` (una tupla con los datos necesarios para calcular el área de la figura). "
   ]
  },
  {
   "cell_type": "code",
   "execution_count": 30,
   "metadata": {},
   "outputs": [
    {
     "name": "stdout",
     "output_type": "stream",
     "text": [
      "50\n"
     ]
    }
   ],
   "source": [
    "import math \n",
    "\n",
    "\n",
    "def area_cal(figura, datos):\n",
    "    if figura == \"rectangulo\":\n",
    "        b, a = datos\n",
    "\n",
    "        return b * a\n",
    "    elif figura == \"circulo\":\n",
    "        r = datos\n",
    "\n",
    "        return math.pi * (r **2)\n",
    "    elif figura == \"triangulo\":\n",
    "\n",
    "        b, a = datos\n",
    "\n",
    "        return (b * a) / 2\n",
    "    else:\n",
    "        return(\"No se admite esa forma o texto\")   \n",
    "    \n",
    "\n",
    "\n",
    "result = area_cal(\"rectangulo\", (5,10))\n",
    "\n",
    "print(result)\n",
    "\n",
    "\n",
    "\n",
    "\n",
    "\n"
   ]
  },
  {
   "cell_type": "markdown",
   "metadata": {},
   "source": [
    "#### 9. Escribe una función que tome una lista de números como parámetro y devuelva el número más grande de la lista. No utilices la función `max()` de Python en tu solución."
   ]
  },
  {
   "cell_type": "code",
   "execution_count": 32,
   "metadata": {},
   "outputs": [
    {
     "name": "stdout",
     "output_type": "stream",
     "text": [
      "9\n"
     ]
    }
   ],
   "source": [
    "def numbig(lista):\n",
    "\n",
    "    mayor = lista[0]\n",
    "\n",
    "    for num in lista:\n",
    "        if num > mayor:\n",
    "            mayor = num\n",
    "\n",
    "    return mayor \n",
    "\n",
    "\n",
    "lista1 = [3, 6, 2, 4, 9]\n",
    "\n",
    "result = numbig(lista1)\n",
    "\n",
    "print(result)\n",
    "\n"
   ]
  },
  {
   "cell_type": "markdown",
   "metadata": {},
   "source": [
    "#### 10. Escribe una función que tome una cadena como parámetro un texto y devuelva `True` si la cadena es un palíndromo (se lee igual de izquierda a derecha que de derecha a izquierda), y `False` en caso contrario. Ignora los espacios y considera mayúsculas y minúsculas de manera insensible.\n"
   ]
  },
  {
   "cell_type": "code",
   "execution_count": 36,
   "metadata": {},
   "outputs": [
    {
     "name": "stdout",
     "output_type": "stream",
     "text": [
      "hoooh es pal: True\n"
     ]
    }
   ],
   "source": [
    "def pal(texto):\n",
    "\n",
    "    texto_clean = ''.join(texto.split()).lower()\n",
    "\n",
    "    return texto_clean == texto_clean[::-1]\n",
    "\n",
    "cadena1 = input(\"Ingresa frase\")\n",
    "\n",
    "result = pal(cadena1)\n",
    "\n",
    "print(f\"{cadena1} es pal: {result}\")\n",
    "\n",
    "\n"
   ]
  },
  {
   "cell_type": "markdown",
   "metadata": {},
   "source": [
    "#### 11. Escribe una función que tome una cadena como parámetro y devuelva dos valores: la cantidad de vocales y la cantidad de consonantes presentes en la cadena. Ignora los espacios y considera mayúsculas y minúsculas de manera insensible.\n"
   ]
  },
  {
   "cell_type": "code",
   "execution_count": 37,
   "metadata": {},
   "outputs": [
    {
     "name": "stdout",
     "output_type": "stream",
     "text": [
      "(4, 2)\n"
     ]
    }
   ],
   "source": [
    "def cont_vo_cons(texto):\n",
    "    vocales = \"aeiou\"\n",
    "    consonantes = \"bcdfghjklmnpqrstvwxyz\"\n",
    "\n",
    "    count_vo = 0\n",
    "    count_cons = 0\n",
    "\n",
    "\n",
    "    for letra in texto:\n",
    "        if letra in vocales:\n",
    "            count_vo +=1\n",
    "        elif letra in consonantes:\n",
    "            count_cons +=1\n",
    "\n",
    "    return count_vo, count_cons       \n",
    "\n",
    "\n",
    "cadena1 = input(\"Ingresa frase\")\n",
    "\n",
    "result = cont_vo_cons(cadena1)\n",
    "\n",
    "print(result)\n",
    "\n"
   ]
  }
 ],
 "metadata": {
  "kernelspec": {
   "display_name": "Python (myenv)",
   "language": "python",
   "name": "myenv"
  },
  "language_info": {
   "codemirror_mode": {
    "name": "ipython",
    "version": 3
   },
   "file_extension": ".py",
   "mimetype": "text/x-python",
   "name": "python",
   "nbconvert_exporter": "python",
   "pygments_lexer": "ipython3",
   "version": "3.12.6"
  }
 },
 "nbformat": 4,
 "nbformat_minor": 2
}
