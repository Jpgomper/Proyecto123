{
 "cells": [
  {
   "cell_type": "markdown",
   "metadata": {},
   "source": [
    "<div style=\"text-align: center;\">\n",
    "  <img src=\"https://github.com/Hack-io-Data/Imagenes/blob/main/01-LogosHackio/logo_celeste@4x.png?raw=true\" alt=\"logo hack(io)\" />\n",
    "</div>"
   ]
  },
  {
   "cell_type": "markdown",
   "metadata": {},
   "source": [
    "#### 1. Escribe un programa que determine si un número es par o impar.\n",
    "\n"
   ]
  },
  {
   "cell_type": "code",
   "execution_count": 8,
   "metadata": {},
   "outputs": [
    {
     "name": "stdout",
     "output_type": "stream",
     "text": [
      "par\n"
     ]
    }
   ],
   "source": [
    "numero = int(input(\"Ingresa Numero\"))\n",
    "\n",
    "if numero % 2 == 0:\n",
    "    print(\"par\")\n",
    "else: \n",
    "    print(\"impar\")\n"
   ]
  },
  {
   "cell_type": "markdown",
   "metadata": {},
   "source": [
    "#### 2. Genera un programa que nos diga si es de noche, de día o tarde según la hora proporcionada por el usuario."
   ]
  },
  {
   "cell_type": "code",
   "execution_count": 35,
   "metadata": {},
   "outputs": [
    {
     "name": "stdout",
     "output_type": "stream",
     "text": [
      "dia\n"
     ]
    }
   ],
   "source": [
    "hora = int(input(\"Ingresa Hora\"))\n",
    "\n",
    "if  6 < hora < 14:\n",
    "    print(\"dia\")\n",
    "elif 14 < hora < 20: \n",
    "    print(\"tarde\")\n",
    "else: \n",
    "    print(\"noche\")    \n",
    "\n",
    "\n",
    "\n"
   ]
  },
  {
   "cell_type": "markdown",
   "metadata": {},
   "source": [
    "#### 3. Dado un nombre imprime un saludo personalizado."
   ]
  },
  {
   "cell_type": "code",
   "execution_count": 14,
   "metadata": {},
   "outputs": [
    {
     "name": "stdout",
     "output_type": "stream",
     "text": [
      "nombre largo\n"
     ]
    }
   ],
   "source": [
    "nombre = str(input(\"Ingresa Nombre\"))\n",
    "\n",
    "if len(nombre) < 5:\n",
    "    print(\"nombre corto\")\n",
    "else: \n",
    "    print(\"nombre largo\")\n",
    "    \n",
    "        "
   ]
  },
  {
   "cell_type": "markdown",
   "metadata": {},
   "source": [
    "#### 4. Escribe un programa que determine qué calificación en texto tiene un alumno en base a su calificación numérica. Las reglas de calificación son: \n",
    "\n",
    "- 0 - 69 insuficiente\n",
    "\n",
    "- 70 - 79 bien\n",
    "\n",
    "- 80 - 89 muy bien\n",
    "\n",
    "- 90 - 100 excelente\n"
   ]
  },
  {
   "cell_type": "code",
   "execution_count": 33,
   "metadata": {},
   "outputs": [
    {
     "name": "stdout",
     "output_type": "stream",
     "text": [
      "bien\n"
     ]
    }
   ],
   "source": [
    "cal = int(input(\"Ingresa calificación\"))\n",
    "\n",
    "if 0 <= cal <= 69:\n",
    "    print(\"insuficiente\")\n",
    "elif 70 <= cal <= 79: \n",
    "    print(\"bien\")\n",
    "elif 80 <= cal <= 89:\n",
    "    print(\"muy bien\")\n",
    "elif 90 <= cal <= 100:\n",
    "    print(\"excelente\")      \n",
    "else: \n",
    "    print(\"no aceptamos este numero\")\n",
    "\n",
    "\n"
   ]
  },
  {
   "cell_type": "markdown",
   "metadata": {},
   "source": [
    "#### 5. Escribe un programa que imprima el día de la semana, dado un número del 1 al 7.\n"
   ]
  },
  {
   "cell_type": "code",
   "execution_count": 37,
   "metadata": {},
   "outputs": [
    {
     "name": "stdout",
     "output_type": "stream",
     "text": [
      "viernes\n"
     ]
    }
   ],
   "source": [
    "numero = int(input(\"Ingresa un numero del 1 al 7\"))\n",
    "\n",
    "if numero == 1: \n",
    "    print(\"lunes\")\n",
    "\n",
    "elif numero == 2:\n",
    "    print(\"martes\") \n",
    "\n",
    "elif numero == 3:\n",
    "    print(\"miercoles\") \n",
    "\n",
    "elif numero == 4:\n",
    "    print(\"jueves\") \n",
    "\n",
    "elif numero == 5:\n",
    "    print(\"viernes\") \n",
    "\n",
    "elif numero == 6:\n",
    "    print(\"sabado\") \n",
    "\n",
    "elif numero == 7:\n",
    "    print(\"domingo\")     \n",
    "    \n",
    "                       "
   ]
  },
  {
   "cell_type": "markdown",
   "metadata": {},
   "source": [
    "#### 6. Escribe un programa que determine si un número es positivo, negativo o cero."
   ]
  },
  {
   "cell_type": "code",
   "execution_count": 40,
   "metadata": {},
   "outputs": [
    {
     "name": "stdout",
     "output_type": "stream",
     "text": [
      "Es cero\n"
     ]
    }
   ],
   "source": [
    "numero = float(input(\"Ingresa numero\"))\n",
    "\n",
    "if numero > 0:\n",
    "    print(\"positivo\")\n",
    "\n",
    "elif numero < 0:\n",
    "    print(\"negativo\")\n",
    "\n",
    "else: \n",
    "    print(\"Es cero\")\n",
    "\n",
    "    "
   ]
  },
  {
   "cell_type": "markdown",
   "metadata": {},
   "source": [
    "#### 7. Escribe un programa que determine si una persona puede conducir o no. La edad mínima para conducir es 18 años. \n"
   ]
  },
  {
   "cell_type": "code",
   "execution_count": 43,
   "metadata": {},
   "outputs": [
    {
     "name": "stdout",
     "output_type": "stream",
     "text": [
      "no puede conducir\n"
     ]
    }
   ],
   "source": [
    "numero = int(input(\"Ingresa edad\"))\n",
    "\n",
    "if numero >= 18: \n",
    "    print(\"puede conducir\")\n",
    "\n",
    "else: \n",
    "    print(\"no puede conducir\")\n",
    "\n"
   ]
  },
  {
   "cell_type": "markdown",
   "metadata": {},
   "source": [
    "#### 8. Escribe un programa que determine si un estudiante aprobó o suspendió un examen."
   ]
  },
  {
   "cell_type": "code",
   "execution_count": 48,
   "metadata": {},
   "outputs": [
    {
     "name": "stdout",
     "output_type": "stream",
     "text": [
      "no aceptamos este numero\n"
     ]
    }
   ],
   "source": [
    "cal = int(input(\"Ingresa calificación\"))\n",
    "\n",
    "if 0 <= cal <= 69:\n",
    "    print(\"suspendio\")\n",
    "\n",
    "elif 100 >= cal > 69: \n",
    "    print(\"aprobo\")\n",
    "\n",
    "else: \n",
    "    print(\"no aceptamos este numero\")"
   ]
  },
  {
   "cell_type": "markdown",
   "metadata": {},
   "source": [
    "#### 9. Escribe un programa que determine si un número es múltiplo de 3 y 5.\n"
   ]
  },
  {
   "cell_type": "code",
   "execution_count": 59,
   "metadata": {},
   "outputs": [
    {
     "name": "stdout",
     "output_type": "stream",
     "text": [
      "es multipo de 3 y 5\n"
     ]
    }
   ],
   "source": [
    "numero = int(input(\"Ingresa Numero\"))\n",
    "\n",
    "if (numero % 3 == 0 and numero % 5 == 0):\n",
    "    print(\"es multipo de 3 y 5\")\n",
    "else: \n",
    "    print(\"no es multiplo de 3 y 5\")\n",
    "\n"
   ]
  },
  {
   "cell_type": "markdown",
   "metadata": {},
   "source": [
    "#### 10. Escribe un programa que determine si un número es par o impar.\n"
   ]
  },
  {
   "cell_type": "code",
   "execution_count": 62,
   "metadata": {},
   "outputs": [
    {
     "name": "stdout",
     "output_type": "stream",
     "text": [
      "impar\n"
     ]
    }
   ],
   "source": [
    "numero = int(input(\"Ingresa Numero\"))\n",
    "\n",
    "if numero % 2 == 0:\n",
    "    print(\"par\")\n",
    "else: \n",
    "    print(\"impar\")"
   ]
  }
 ],
 "metadata": {
  "kernelspec": {
   "display_name": "Python (myenv)",
   "language": "python",
   "name": "myenv"
  },
  "language_info": {
   "codemirror_mode": {
    "name": "ipython",
    "version": 3
   },
   "file_extension": ".py",
   "mimetype": "text/x-python",
   "name": "python",
   "nbconvert_exporter": "python",
   "pygments_lexer": "ipython3",
   "version": "3.12.6"
  }
 },
 "nbformat": 4,
 "nbformat_minor": 2
}
