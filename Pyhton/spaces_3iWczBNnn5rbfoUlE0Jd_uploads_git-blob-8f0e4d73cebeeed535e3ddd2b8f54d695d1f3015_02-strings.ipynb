{
 "cells": [
  {
   "cell_type": "markdown",
   "metadata": {},
   "source": [
    "<div style=\"text-align: center;\">\n",
    "  <img src=\"https://github.com/Hack-io-Data/Imagenes/blob/main/01-LogosHackio/logo_celeste@4x.png?raw=true\" alt=\"logo hack(io)\" />\n",
    "</div>"
   ]
  },
  {
   "cell_type": "markdown",
   "metadata": {
    "vscode": {
     "languageId": "plaintext"
    }
   },
   "source": [
    "#### 1. Dado el string `texto = \"Hola Mundo\"`, conviértelo todo a minúsculas."
   ]
  },
  {
   "cell_type": "code",
   "execution_count": 1,
   "metadata": {},
   "outputs": [
    {
     "name": "stdout",
     "output_type": "stream",
     "text": [
      "hola mundo\n"
     ]
    }
   ],
   "source": [
    "texto = \"Hola Mundo\"\n",
    "\n",
    "texto_m = texto.lower()\n",
    "\n",
    "print(texto_m)\n"
   ]
  },
  {
   "cell_type": "markdown",
   "metadata": {},
   "source": [
    "#### 2. Dado el string `texto = \"Hola Mundo\"`, conviértelo todo a mayúsculas."
   ]
  },
  {
   "cell_type": "code",
   "execution_count": 2,
   "metadata": {},
   "outputs": [
    {
     "name": "stdout",
     "output_type": "stream",
     "text": [
      "HOLA MUNDO\n"
     ]
    }
   ],
   "source": [
    "texto = \"Hola Mundo\"\n",
    "\n",
    "texto_m = texto.upper()\n",
    "\n",
    "print(texto_m)"
   ]
  },
  {
   "cell_type": "markdown",
   "metadata": {},
   "source": [
    "#### 3. Dado el string `texto = \"  Hola Mundo  \"`, elimina los espacios al principio y al final."
   ]
  },
  {
   "cell_type": "code",
   "execution_count": 4,
   "metadata": {},
   "outputs": [
    {
     "name": "stdout",
     "output_type": "stream",
     "text": [
      "Hola Mundo\n"
     ]
    }
   ],
   "source": [
    "texto = \" Hola Mundo \"\n",
    "\n",
    "texto_es = texto.strip()\n",
    "\n",
    "print(texto_es)\n"
   ]
  },
  {
   "cell_type": "markdown",
   "metadata": {},
   "source": [
    "#### 4. Dado el string `texto = \"Hola Mundo\"`, reemplaza \"Mundo\" por \"Python\"."
   ]
  },
  {
   "cell_type": "code",
   "execution_count": 10,
   "metadata": {},
   "outputs": [
    {
     "name": "stdout",
     "output_type": "stream",
     "text": [
      "Hola Python\n"
     ]
    }
   ],
   "source": [
    "texto = \"Hola Mundo\"\n",
    "\n",
    "texto_p = texto.replace(\"Mundo\",\"Python\")\n",
    "\n",
    "\n",
    "print(texto_p)\n"
   ]
  },
  {
   "cell_type": "markdown",
   "metadata": {},
   "source": [
    "#### 5. Dado el string `texto = \"Hola Mundo\"`, divídelo en palabras."
   ]
  },
  {
   "cell_type": "code",
   "execution_count": 11,
   "metadata": {},
   "outputs": [
    {
     "name": "stdout",
     "output_type": "stream",
     "text": [
      "['Hola', 'Mundo']\n"
     ]
    }
   ],
   "source": [
    "texto = \"Hola Mundo\"\n",
    "\n",
    "texto_sp = texto.split()\n",
    "\n",
    "print(texto_sp)"
   ]
  },
  {
   "cell_type": "markdown",
   "metadata": {},
   "source": []
  },
  {
   "cell_type": "markdown",
   "metadata": {},
   "source": [
    "#### 6. Dada la lista `palabras = [\"Hola\", \"Mundo\"]`, únelas en un solo string separado por un espacio."
   ]
  },
  {
   "cell_type": "code",
   "execution_count": 12,
   "metadata": {},
   "outputs": [
    {
     "name": "stdout",
     "output_type": "stream",
     "text": [
      "Hola Mundo\n"
     ]
    }
   ],
   "source": [
    "palabras = [\"Hola\", \"Mundo\"]\n",
    "\n",
    "unidas = ' '.join(palabras)\n",
    "\n",
    "print(unidas)\n"
   ]
  },
  {
   "cell_type": "markdown",
   "metadata": {},
   "source": [
    "#### 7. Dado el string `texto = \"Hola Mundo\"`, encuentra la posición de la subcadena \"Mundo\"."
   ]
  },
  {
   "cell_type": "code",
   "execution_count": 13,
   "metadata": {},
   "outputs": [
    {
     "name": "stdout",
     "output_type": "stream",
     "text": [
      "5\n"
     ]
    }
   ],
   "source": [
    "texto = \"Hola Mundo\"\n",
    "\n",
    "pos = texto.find(\"Mundo\")\n",
    "\n",
    "print(pos)\n",
    "\n"
   ]
  },
  {
   "cell_type": "markdown",
   "metadata": {},
   "source": [
    "#### 8. Dado el string `texto = \"Hola Mundo\"`, comprueba si empieza con \"Hola\"."
   ]
  },
  {
   "cell_type": "code",
   "execution_count": 14,
   "metadata": {},
   "outputs": [
    {
     "name": "stdout",
     "output_type": "stream",
     "text": [
      "True\n"
     ]
    }
   ],
   "source": [
    "texto = \"Hola Mundo\"\n",
    "\n",
    "emp = texto.startswith(\"Hola\")\n",
    "\n",
    "print(emp)"
   ]
  },
  {
   "cell_type": "markdown",
   "metadata": {},
   "source": [
    "#### 9. Dado el string `texto = \"Hola Mundo\"`, comprueba si termina con \"Mundo\"."
   ]
  },
  {
   "cell_type": "code",
   "execution_count": 15,
   "metadata": {},
   "outputs": [
    {
     "name": "stdout",
     "output_type": "stream",
     "text": [
      "True\n"
     ]
    }
   ],
   "source": [
    "texto = \"Hola Mundo\"\n",
    "\n",
    "ter = texto.endswith(\"Mundo\")\n",
    "\n",
    "print(ter)\n"
   ]
  },
  {
   "cell_type": "markdown",
   "metadata": {},
   "source": [
    "#### 10. Dado el string `texto = \"12345\"`, comprueba si todos los caracteres son dígitos."
   ]
  },
  {
   "cell_type": "code",
   "execution_count": 16,
   "metadata": {},
   "outputs": [
    {
     "name": "stdout",
     "output_type": "stream",
     "text": [
      "True\n"
     ]
    }
   ],
   "source": [
    "texto = \"12345\"\n",
    "\n",
    "dig = texto.isdigit()\n",
    "\n",
    "print(dig)"
   ]
  },
  {
   "cell_type": "markdown",
   "metadata": {},
   "source": [
    "#### 11. Dado el string `texto = \"Hola Mundo Hola\"`, cuenta cuántas veces aparece \"Hola\"."
   ]
  },
  {
   "cell_type": "code",
   "execution_count": 17,
   "metadata": {},
   "outputs": [
    {
     "name": "stdout",
     "output_type": "stream",
     "text": [
      "2\n"
     ]
    }
   ],
   "source": [
    "texto = \"Hola Mundo Hola\"\n",
    "\n",
    "cantidad = texto.count(\"Hola\")\n",
    "\n",
    "print(cantidad)\n",
    "\n"
   ]
  },
  {
   "cell_type": "markdown",
   "metadata": {},
   "source": [
    "#### 12. Dado el string `texto = \"hola mundo\"`, capitaliza la primera letra."
   ]
  },
  {
   "cell_type": "code",
   "execution_count": 19,
   "metadata": {},
   "outputs": [
    {
     "name": "stdout",
     "output_type": "stream",
     "text": [
      "Hola mundo\n"
     ]
    }
   ],
   "source": [
    "texto = \"hola mundo\"\n",
    "\n",
    "mayu = texto.capitalize()\n",
    "\n",
    "print(mayu)"
   ]
  },
  {
   "cell_type": "markdown",
   "metadata": {},
   "source": [
    "#### 13. Dado el string `texto = \"hola mundo\"`, pon en mayúscula la primera letra de cada palabra."
   ]
  },
  {
   "cell_type": "code",
   "execution_count": 20,
   "metadata": {},
   "outputs": [
    {
     "name": "stdout",
     "output_type": "stream",
     "text": [
      "Hola Mundo\n"
     ]
    }
   ],
   "source": [
    "texto = \"hola mundo\"\n",
    "\n",
    "mayu2 = texto.title()\n",
    "\n",
    "print(mayu2)"
   ]
  },
  {
   "cell_type": "markdown",
   "metadata": {},
   "source": [
    "#### 14. Dado el string `texto = \"HolaMundo\"`, comprueba si todos los caracteres son letras."
   ]
  },
  {
   "cell_type": "code",
   "execution_count": 21,
   "metadata": {},
   "outputs": [
    {
     "name": "stdout",
     "output_type": "stream",
     "text": [
      "True\n"
     ]
    }
   ],
   "source": [
    "texto = \"HolaMundo\"\n",
    "\n",
    "comp = texto.isalpha()\n",
    "\n",
    "print(comp)\n"
   ]
  },
  {
   "cell_type": "markdown",
   "metadata": {},
   "source": [
    "#### 15. Dado el string `texto = \"Hola Mundo\"`, invierte el caso de cada letra."
   ]
  },
  {
   "cell_type": "code",
   "execution_count": 1,
   "metadata": {},
   "outputs": [
    {
     "name": "stdout",
     "output_type": "stream",
     "text": [
      "hOLA mUNDO\n"
     ]
    }
   ],
   "source": [
    "texto = \"Hola Mundo\"\n",
    "\n",
    "swap = texto.swapcase()\n",
    "\n",
    "print(swap)\n"
   ]
  }
 ],
 "metadata": {
  "kernelspec": {
   "display_name": "Python (myenv)",
   "language": "python",
   "name": "myenv"
  },
  "language_info": {
   "codemirror_mode": {
    "name": "ipython",
    "version": 3
   },
   "file_extension": ".py",
   "mimetype": "text/x-python",
   "name": "python",
   "nbconvert_exporter": "python",
   "pygments_lexer": "ipython3",
   "version": "3.12.6"
  }
 },
 "nbformat": 4,
 "nbformat_minor": 2
}
